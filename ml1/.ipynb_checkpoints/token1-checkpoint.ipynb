{
 "cells": [
  {
   "metadata": {
    "ExecuteTime": {
     "end_time": "2025-05-27T17:37:26.423939Z",
     "start_time": "2025-05-27T17:37:26.415899Z"
    }
   },
   "cell_type": "code",
   "source": [
    "corpus = \"\"\"Hello and Let's Start this wonderful Course.\n",
    "Let's complete it and then try finding the use cases in real life.\n",
    "\"\"\""
   ],
   "id": "daa027f7c2c9784c",
   "outputs": [],
   "execution_count": 2
  },
  {
   "metadata": {
    "ExecuteTime": {
     "end_time": "2025-05-27T17:37:49.681274Z",
     "start_time": "2025-05-27T17:37:49.678743Z"
    }
   },
   "cell_type": "code",
   "source": "print(corpus)",
   "id": "ab4f5bcaf265b8fb",
   "outputs": [
    {
     "name": "stdout",
     "output_type": "stream",
     "text": [
      "Hello and Let's Start this wonderful Course.\n",
      "Let's complete it and then try finding the use cases in real life.\n",
      "\n"
     ]
    }
   ],
   "execution_count": 4
  },
  {
   "metadata": {
    "ExecuteTime": {
     "end_time": "2025-05-27T17:39:32.104296Z",
     "start_time": "2025-05-27T17:39:31.562765Z"
    }
   },
   "cell_type": "code",
   "source": [
    "## tokenization\n",
    "## sentence to paragraph\n",
    "from nltk.tokenize import sent_tokenize"
   ],
   "id": "71d8228f270da98c",
   "outputs": [
    {
     "ename": "ModuleNotFoundError",
     "evalue": "No module named 'nltk'",
     "output_type": "error",
     "traceback": [
      "\u001B[31m---------------------------------------------------------------------------\u001B[39m",
      "\u001B[31mModuleNotFoundError\u001B[39m                       Traceback (most recent call last)",
      "\u001B[36mCell\u001B[39m\u001B[36m \u001B[39m\u001B[32mIn[5]\u001B[39m\u001B[32m, line 3\u001B[39m\n\u001B[32m      1\u001B[39m \u001B[38;5;66;03m## tokenization\u001B[39;00m\n\u001B[32m      2\u001B[39m \u001B[38;5;66;03m## sentence to paragraph\u001B[39;00m\n\u001B[32m----> \u001B[39m\u001B[32m3\u001B[39m \u001B[38;5;28;01mfrom\u001B[39;00m\u001B[38;5;250m \u001B[39m\u001B[34;01mnltk\u001B[39;00m\u001B[34;01m.\u001B[39;00m\u001B[34;01mtokenize\u001B[39;00m\u001B[38;5;250m \u001B[39m\u001B[38;5;28;01mimport\u001B[39;00m sent_tokenize\n",
      "\u001B[31mModuleNotFoundError\u001B[39m: No module named 'nltk'"
     ]
    }
   ],
   "execution_count": 5
  },
  {
   "metadata": {},
   "cell_type": "code",
   "outputs": [],
   "execution_count": null,
   "source": "",
   "id": "31cdb23b167a345b"
  }
 ],
 "metadata": {
  "kernelspec": {
   "display_name": ".venv",
   "language": "python",
   "name": "python3"
  },
  "language_info": {
   "codemirror_mode": {
    "name": "ipython",
    "version": 3
   },
   "file_extension": ".py",
   "mimetype": "text/x-python",
   "name": "python",
   "nbconvert_exporter": "python",
   "pygments_lexer": "ipython3",
   "version": "3.13.3"
  }
 },
 "nbformat": 4,
 "nbformat_minor": 5
}
