{
 "cells": [
  {
   "cell_type": "code",
   "execution_count": 9,
   "id": "daa027f7c2c9784c",
   "metadata": {
    "ExecuteTime": {
     "end_time": "2025-05-27T17:37:26.423939Z",
     "start_time": "2025-05-27T17:37:26.415899Z"
    }
   },
   "outputs": [],
   "source": [
    "corpus = \"\"\"Hello and Let's Start this wonderful Course.\n",
    "Let's complete it ! and then try finding the use cases in real life.\n",
    "\"\"\""
   ]
  },
  {
   "cell_type": "code",
   "execution_count": 10,
   "id": "ab4f5bcaf265b8fb",
   "metadata": {
    "ExecuteTime": {
     "end_time": "2025-05-27T17:37:49.681274Z",
     "start_time": "2025-05-27T17:37:49.678743Z"
    }
   },
   "outputs": [
    {
     "name": "stdout",
     "output_type": "stream",
     "text": [
      "Hello and Let's Start this wonderful Course.\n",
      "Let's complete it ! and then try finding the use cases in real life.\n",
      "\n"
     ]
    }
   ],
   "source": [
    "print(corpus)"
   ]
  },
  {
   "cell_type": "code",
   "execution_count": 11,
   "id": "71d8228f270da98c",
   "metadata": {
    "ExecuteTime": {
     "end_time": "2025-05-27T17:39:32.104296Z",
     "start_time": "2025-05-27T17:39:31.562765Z"
    }
   },
   "outputs": [
    {
     "name": "stderr",
     "output_type": "stream",
     "text": [
      "[nltk_data] Downloading package punkt_tab to\n",
      "[nltk_data]     C:\\Users\\DELL\\AppData\\Roaming\\nltk_data...\n",
      "[nltk_data]   Package punkt_tab is already up-to-date!\n"
     ]
    },
    {
     "data": {
      "text/plain": [
       "True"
      ]
     },
     "execution_count": 11,
     "metadata": {},
     "output_type": "execute_result"
    }
   ],
   "source": [
    "## tokenization\n",
    "## sentence ---> paragraph\n",
    "import nltk\n",
    "nltk.download('punkt_tab')\n"
   ]
  },
  {
   "cell_type": "code",
   "execution_count": 12,
   "id": "d1d55fc2",
   "metadata": {},
   "outputs": [
    {
     "name": "stdout",
     "output_type": "stream",
     "text": [
      "[\"Hello and Let's Start this wonderful Course.\", \"Let's complete it !\", 'and then try finding the use cases in real life.']\n"
     ]
    }
   ],
   "source": [
    "sentence = sent_tokenize(corpus)\n",
    "print(sentence)"
   ]
  },
  {
   "cell_type": "code",
   "execution_count": null,
   "id": "9dad9bca",
   "metadata": {},
   "outputs": [],
   "source": []
  }
 ],
 "metadata": {
  "kernelspec": {
   "display_name": ".venv",
   "language": "python",
   "name": "python3"
  },
  "language_info": {
   "codemirror_mode": {
    "name": "ipython",
    "version": 3
   },
   "file_extension": ".py",
   "mimetype": "text/x-python",
   "name": "python",
   "nbconvert_exporter": "python",
   "pygments_lexer": "ipython3",
   "version": "3.13.3"
  }
 },
 "nbformat": 4,
 "nbformat_minor": 5
}
