{
 "cells": [
  {
   "cell_type": "code",
   "execution_count": 24,
   "id": "daa027f7c2c9784c",
   "metadata": {
    "ExecuteTime": {
     "end_time": "2025-05-28T05:28:37.640733Z",
     "start_time": "2025-05-28T05:28:37.635389Z"
    }
   },
   "outputs": [],
   "source": [
    "corpus = \"\"\"Hello and Let's Start this wonderful Course.\n",
    "Let's complete it ! and then try finding the use cases in real life.\n",
    "\"\"\""
   ]
  },
  {
   "cell_type": "code",
   "execution_count": 15,
   "id": "ab4f5bcaf265b8fb",
   "metadata": {
    "ExecuteTime": {
     "end_time": "2025-05-28T05:28:43.652296Z",
     "start_time": "2025-05-28T05:28:43.647783Z"
    }
   },
   "outputs": [
    {
     "name": "stdout",
     "output_type": "stream",
     "text": [
      "Hello and Let's Start this wonderful Course.\n",
      "Let's complete it ! and then try finding the use cases in real life.\n",
      "\n"
     ]
    }
   ],
   "source": [
    "print(corpus)"
   ]
  },
  {
   "cell_type": "code",
   "execution_count": 14,
   "id": "71d8228f270da98c",
   "metadata": {
    "ExecuteTime": {
     "end_time": "2025-05-28T04:39:47.518844Z",
     "start_time": "2025-05-28T04:39:47.487601Z"
    }
   },
   "outputs": [
    {
     "name": "stderr",
     "output_type": "stream",
     "text": [
      "[nltk_data] Downloading package punkt_tab to\n",
      "[nltk_data]     C:\\Users\\DELL\\AppData\\Roaming\\nltk_data...\n",
      "[nltk_data]   Package punkt_tab is already up-to-date!\n"
     ]
    },
    {
     "data": {
      "text/plain": [
       "True"
      ]
     },
     "execution_count": 14,
     "metadata": {},
     "output_type": "execute_result"
    }
   ],
   "source": [
    "## tokenization\n",
    "## sentence ---> paragraph\n",
    "import nltk\n",
    "nltk.download('punkt_tab')\n"
   ]
  },
  {
   "cell_type": "code",
   "execution_count": 18,
   "id": "d1d55fc2",
   "metadata": {},
   "outputs": [
    {
     "name": "stdout",
     "output_type": "stream",
     "text": [
      "[\"Hello and Let's Start this wonderful Course.\", \"Let's complete it !\", 'and then try finding the use cases in real life.']\n"
     ]
    },
    {
     "data": {
      "text/plain": [
       "list"
      ]
     },
     "execution_count": 18,
     "metadata": {},
     "output_type": "execute_result"
    }
   ],
   "source": [
    "sentences = sent_tokenize(corpus)\n",
    "print(sentences)\n",
    "type(sentences)"
   ]
  },
  {
   "cell_type": "code",
   "execution_count": 19,
   "id": "9dad9bca",
   "metadata": {},
   "outputs": [
    {
     "name": "stdout",
     "output_type": "stream",
     "text": [
      "Hello and Let's Start this wonderful Course.\n",
      "Let's complete it !\n",
      "and then try finding the use cases in real life.\n"
     ]
    }
   ],
   "source": [
    "for sentence in sentences:\n",
    "    print(sentence)"
   ]
  },
  {
   "cell_type": "code",
   "execution_count": 20,
   "id": "2b47e983",
   "metadata": {},
   "outputs": [],
   "source": [
    "## Tokenization\n",
    "## paragraph ---> words\n",
    "## sentence ----> words\n",
    "from nltk.tokenize import word_tokenize"
   ]
  },
  {
   "cell_type": "code",
   "execution_count": 25,
   "id": "7ba2a30d",
   "metadata": {},
   "outputs": [
    {
     "data": {
      "text/plain": [
       "['Hello',\n",
       " 'and',\n",
       " 'Let',\n",
       " \"'s\",\n",
       " 'Start',\n",
       " 'this',\n",
       " 'wonderful',\n",
       " 'Course',\n",
       " '.',\n",
       " 'Let',\n",
       " \"'s\",\n",
       " 'complete',\n",
       " 'it',\n",
       " '!',\n",
       " 'and',\n",
       " 'then',\n",
       " 'try',\n",
       " 'finding',\n",
       " 'the',\n",
       " 'use',\n",
       " 'cases',\n",
       " 'in',\n",
       " 'real',\n",
       " 'life',\n",
       " '.']"
      ]
     },
     "execution_count": 25,
     "metadata": {},
     "output_type": "execute_result"
    }
   ],
   "source": [
    "word_tokenize(corpus)"
   ]
  },
  {
   "cell_type": "code",
   "execution_count": 26,
   "id": "8cb2721c",
   "metadata": {},
   "outputs": [
    {
     "name": "stdout",
     "output_type": "stream",
     "text": [
      "['Hello', 'and', 'Let', \"'s\", 'Start', 'this', 'wonderful', 'Course', '.']\n",
      "['Let', \"'s\", 'complete', 'it', '!']\n",
      "['and', 'then', 'try', 'finding', 'the', 'use', 'cases', 'in', 'real', 'life', '.']\n"
     ]
    }
   ],
   "source": [
    "for sentence in sentences:\n",
    "    print(word_tokenize(sentence))"
   ]
  },
  {
   "cell_type": "code",
   "execution_count": 29,
   "id": "fb4b4950",
   "metadata": {},
   "outputs": [],
   "source": [
    "## wordpunct tokenize\n",
    "from nltk.tokenize import wordpunct_tokenize"
   ]
  },
  {
   "cell_type": "code",
   "execution_count": 30,
   "id": "c22242b7",
   "metadata": {},
   "outputs": [
    {
     "data": {
      "text/plain": [
       "['Hello',\n",
       " 'and',\n",
       " 'Let',\n",
       " \"'\",\n",
       " 's',\n",
       " 'Start',\n",
       " 'this',\n",
       " 'wonderful',\n",
       " 'Course',\n",
       " '.',\n",
       " 'Let',\n",
       " \"'\",\n",
       " 's',\n",
       " 'complete',\n",
       " 'it',\n",
       " '!',\n",
       " 'and',\n",
       " 'then',\n",
       " 'try',\n",
       " 'finding',\n",
       " 'the',\n",
       " 'use',\n",
       " 'cases',\n",
       " 'in',\n",
       " 'real',\n",
       " 'life',\n",
       " '.']"
      ]
     },
     "execution_count": 30,
     "metadata": {},
     "output_type": "execute_result"
    }
   ],
   "source": [
    "wordpunct_tokenize(corpus)"
   ]
  },
  {
   "cell_type": "code",
   "execution_count": 31,
   "id": "16ddcbe1",
   "metadata": {},
   "outputs": [],
   "source": [
    "from nltk.tokenize import TreebankWordDetokenizer"
   ]
  },
  {
   "cell_type": "code",
   "execution_count": 32,
   "id": "8b532409",
   "metadata": {},
   "outputs": [],
   "source": [
    "tokenizer = TreebankWordDetokenizer()"
   ]
  },
  {
   "cell_type": "code",
   "execution_count": 35,
   "id": "ab9e4fe2",
   "metadata": {},
   "outputs": [
    {
     "data": {
      "text/plain": [
       "\"H e l l o   a n d   L e t' s   S t a r t   t h i s   w o n d e r f u l   C o u r s e . \\n L e t' s   c o m p l e t e   i t  !   a n d   t h e n   t r y   f i n d i n g   t h e   u s e   c a s e s   i n   r e a l   l i f e.\""
      ]
     },
     "execution_count": 35,
     "metadata": {},
     "output_type": "execute_result"
    }
   ],
   "source": [
    "tokenizer.tokenize(corpus)"
   ]
  },
  {
   "cell_type": "code",
   "execution_count": null,
   "id": "81264380",
   "metadata": {},
   "outputs": [],
   "source": []
  }
 ],
 "metadata": {
  "kernelspec": {
   "display_name": ".venv",
   "language": "python",
   "name": "python3"
  },
  "language_info": {
   "codemirror_mode": {
    "name": "ipython",
    "version": 3
   },
   "file_extension": ".py",
   "mimetype": "text/x-python",
   "name": "python",
   "nbconvert_exporter": "python",
   "pygments_lexer": "ipython3",
   "version": "3.13.3"
  }
 },
 "nbformat": 4,
 "nbformat_minor": 5
}
