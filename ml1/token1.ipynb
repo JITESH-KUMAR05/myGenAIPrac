{
 "cells": [
  {
   "cell_type": "code",
   "execution_count": 16,
   "id": "daa027f7c2c9784c",
   "metadata": {
    "ExecuteTime": {
     "end_time": "2025-05-28T05:28:37.640733Z",
     "start_time": "2025-05-28T05:28:37.635389Z"
    }
   },
   "outputs": [],
   "source": [
    "corpus = \"\"\"Hello and Let's Start this wonderful Course.\n",
    "Let's complete it ! and then try finding the use cases in real life.\n",
    "\"\"\""
   ]
  },
  {
   "cell_type": "code",
   "execution_count": 15,
   "id": "ab4f5bcaf265b8fb",
   "metadata": {
    "ExecuteTime": {
     "end_time": "2025-05-28T05:28:43.652296Z",
     "start_time": "2025-05-28T05:28:43.647783Z"
    }
   },
   "outputs": [
    {
     "name": "stdout",
     "output_type": "stream",
     "text": [
      "Hello and Let's Start this wonderful Course.\n",
      "Let's complete it ! and then try finding the use cases in real life.\n",
      "\n"
     ]
    }
   ],
   "source": [
    "print(corpus)"
   ]
  },
  {
   "cell_type": "code",
   "execution_count": 14,
   "id": "71d8228f270da98c",
   "metadata": {
    "ExecuteTime": {
     "end_time": "2025-05-28T04:39:47.518844Z",
     "start_time": "2025-05-28T04:39:47.487601Z"
    }
   },
   "outputs": [
    {
     "name": "stderr",
     "output_type": "stream",
     "text": [
      "[nltk_data] Downloading package punkt_tab to\n",
      "[nltk_data]     C:\\Users\\DELL\\AppData\\Roaming\\nltk_data...\n",
      "[nltk_data]   Package punkt_tab is already up-to-date!\n"
     ]
    },
    {
     "data": {
      "text/plain": [
       "True"
      ]
     },
     "execution_count": 14,
     "metadata": {},
     "output_type": "execute_result"
    }
   ],
   "source": [
    "## tokenization\n",
    "## sentence ---> paragraph\n",
    "import nltk\n",
    "nltk.download('punkt_tab')\n"
   ]
  },
  {
   "cell_type": "code",
   "execution_count": 18,
   "id": "d1d55fc2",
   "metadata": {},
   "outputs": [
    {
     "name": "stdout",
     "output_type": "stream",
     "text": [
      "[\"Hello and Let's Start this wonderful Course.\", \"Let's complete it !\", 'and then try finding the use cases in real life.']\n"
     ]
    },
    {
     "data": {
      "text/plain": [
       "list"
      ]
     },
     "execution_count": 18,
     "metadata": {},
     "output_type": "execute_result"
    }
   ],
   "source": [
    "sentences = sent_tokenize(corpus)\n",
    "print(sentences)\n",
    "type(sentences)"
   ]
  },
  {
   "cell_type": "code",
   "execution_count": 19,
   "id": "9dad9bca",
   "metadata": {},
   "outputs": [
    {
     "name": "stdout",
     "output_type": "stream",
     "text": [
      "Hello and Let's Start this wonderful Course.\n",
      "Let's complete it !\n",
      "and then try finding the use cases in real life.\n"
     ]
    }
   ],
   "source": [
    "for sentence in sentences:\n",
    "    print(sentence)"
   ]
  },
  {
   "cell_type": "code",
   "execution_count": null,
   "id": "2b47e983",
   "metadata": {},
   "outputs": [],
   "source": []
  }
 ],
 "metadata": {
  "kernelspec": {
   "display_name": ".venv",
   "language": "python",
   "name": "python3"
  },
  "language_info": {
   "codemirror_mode": {
    "name": "ipython",
    "version": 3
   },
   "file_extension": ".py",
   "mimetype": "text/x-python",
   "name": "python",
   "nbconvert_exporter": "python",
   "pygments_lexer": "ipython3",
   "version": "3.13.3"
  }
 },
 "nbformat": 4,
 "nbformat_minor": 5
}
