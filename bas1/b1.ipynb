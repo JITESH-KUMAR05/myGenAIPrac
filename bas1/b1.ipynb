{
 "cells": [
  {
   "cell_type": "code",
   "id": "15c4f229",
   "metadata": {
    "ExecuteTime": {
     "end_time": "2025-05-28T04:46:35.482892Z",
     "start_time": "2025-05-28T04:46:35.479205Z"
    }
   },
   "source": [
    "import os\n",
    "\n",
    "print(\"Hello world\")"
   ],
   "outputs": [
    {
     "name": "stdout",
     "output_type": "stream",
     "text": [
      "Hello world\n"
     ]
    }
   ],
   "execution_count": 1
  },
  {
   "cell_type": "code",
   "execution_count": 2,
   "id": "10e47a6f837554a6",
   "metadata": {},
   "outputs": [
    {
     "name": "stdout",
     "output_type": "stream",
     "text": [
      "hello this is jitesh\n",
      "i am here\n"
     ]
    }
   ],
   "source": [
    "## reading the file \n",
    "with open('me.txt','r') as file:\n",
    "    content=file.read()\n",
    "    print(content)"
   ]
  },
  {
   "cell_type": "code",
   "execution_count": 8,
   "id": "6026aa7a",
   "metadata": {
    "ExecuteTime": {
     "end_time": "2025-05-27T10:53:49.965748Z",
     "start_time": "2025-05-27T10:53:49.961111Z"
    }
   },
   "outputs": [],
   "source": [
    "with open('me.txt','a') as file:\n",
    "    line = \"\\nI am in jammu\"\n",
    "    file.write(line)"
   ]
  },
  {
   "cell_type": "code",
   "execution_count": 9,
   "id": "ccbd550f4e0bb13",
   "metadata": {
    "ExecuteTime": {
     "end_time": "2025-05-27T10:53:53.546934Z",
     "start_time": "2025-05-27T10:53:53.541396Z"
    }
   },
   "outputs": [
    {
     "name": "stdout",
     "output_type": "stream",
     "text": [
      "hello this is jitesh\n",
      "i am hereI am in jammu\n",
      "I am in jammu\n"
     ]
    }
   ],
   "source": [
    "with open('me.txt','r') as file:\n",
    "    content=file.read()\n",
    "    print(content)"
   ]
  },
  {
   "cell_type": "code",
   "execution_count": 10,
   "id": "86fbba4fda6c3f05",
   "metadata": {
    "ExecuteTime": {
     "end_time": "2025-05-27T10:54:00.414649Z",
     "start_time": "2025-05-27T10:54:00.409396Z"
    }
   },
   "outputs": [
    {
     "name": "stdout",
     "output_type": "stream",
     "text": [
      "hello this is jitesh\n",
      "i am hereI am in jammu\n",
      "I am in jammu\n"
     ]
    }
   ],
   "source": [
    "with open('me.txt','r') as file:\n",
    "    for line in file:\n",
    "        print(line.strip())"
   ]
  },
  {
   "cell_type": "code",
   "execution_count": 4,
   "id": "738eeb8431ca9337",
   "metadata": {},
   "outputs": [],
   "source": [
    "with open('me.txt','w') as file:\n",
    "    file.write(\"HEllo there\\n\")\n",
    "    file.write(\"Here i am\")"
   ]
  },
  {
   "cell_type": "code",
   "id": "7b053bb2",
   "metadata": {
    "ExecuteTime": {
     "end_time": "2025-05-27T11:38:22.849987Z",
     "start_time": "2025-05-27T11:38:22.845765Z"
    }
   },
   "source": [
    "## creating a new package \n",
    "import os\n",
    "new_directory = \"package\"\n",
    "os.mkdir(new_directory)\n",
    "print(f\"Directory '{new_directory}' created\")"
   ],
   "outputs": [
    {
     "name": "stdout",
     "output_type": "stream",
     "text": [
      "Directory 'package' created\n"
     ]
    }
   ],
   "execution_count": 12
  },
  {
   "metadata": {
    "ExecuteTime": {
     "end_time": "2025-05-27T11:39:54.840004Z",
     "start_time": "2025-05-27T11:39:54.835631Z"
    }
   },
   "cell_type": "code",
   "source": [
    "## listing all the directories and files\n",
    "items = os.listdir('.')\n",
    "print(items)"
   ],
   "id": "a97c7d74d996e086",
   "outputs": [
    {
     "name": "stdout",
     "output_type": "stream",
     "text": [
      "['.venv', 'b1.ipynb', 'b1.ipynb.tmp', 'me.txt', 'package']\n"
     ]
    }
   ],
   "execution_count": 14
  },
  {
   "metadata": {
    "ExecuteTime": {
     "end_time": "2025-05-27T11:42:33.258605Z",
     "start_time": "2025-05-27T11:42:33.255314Z"
    }
   },
   "cell_type": "code",
   "source": [
    "## joining paths\n",
    "dir_name = \"folder\"\n",
    "file_name = \"file.txt\"\n",
    "full_path = os.path.join(dir_name,file_name)\n",
    "print(full_path)"
   ],
   "id": "b4f9fc06f4445c0b",
   "outputs": [
    {
     "name": "stdout",
     "output_type": "stream",
     "text": [
      "folder\\file.txt\n"
     ]
    }
   ],
   "execution_count": 15
  },
  {
   "metadata": {
    "ExecuteTime": {
     "end_time": "2025-05-27T11:43:24.854944Z",
     "start_time": "2025-05-27T11:43:24.851009Z"
    }
   },
   "cell_type": "code",
   "source": [
    "## joining paths\n",
    "dir_name = \"folder\"\n",
    "file_name = \"file.txt\"\n",
    "full_path = os.path.join(os.getcwd(), dir_name,file_name)\n",
    "print(full_path)"
   ],
   "id": "c96aba112e908278",
   "outputs": [
    {
     "name": "stdout",
     "output_type": "stream",
     "text": [
      "D:\\python programing\\UD\\bas1\\folder\\file.txt\n"
     ]
    }
   ],
   "execution_count": 16
  },
  {
   "metadata": {},
   "cell_type": "code",
   "outputs": [],
   "execution_count": null,
   "source": "",
   "id": "ab8b40ad0dd0f1a4"
  }
 ],
 "metadata": {
  "kernelspec": {
   "display_name": ".venv",
   "language": "python",
   "name": "python3"
  },
  "language_info": {
   "codemirror_mode": {
    "name": "ipython",
    "version": 3
   },
   "file_extension": ".py",
   "mimetype": "text/x-python",
   "name": "python",
   "nbconvert_exporter": "python",
   "pygments_lexer": "ipython3",
   "version": "3.13.3"
  }
 },
 "nbformat": 4,
 "nbformat_minor": 5
}
