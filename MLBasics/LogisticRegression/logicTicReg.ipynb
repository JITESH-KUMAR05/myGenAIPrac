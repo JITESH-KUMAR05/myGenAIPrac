{
 "cells": [
  {
   "cell_type": "markdown",
   "id": "0f20358f",
   "metadata": {},
   "source": [
    "## Logic REgression Using python and sklearn"
   ]
  },
  {
   "cell_type": "code",
   "execution_count": 2,
   "id": "dd0b3499",
   "metadata": {},
   "outputs": [],
   "source": [
    "import pandas as pd\n",
    "import numpy as np\n",
    "import seaborn as sns\n",
    "import matplotlib.pyplot as plt\n",
    "%matplotlib inline"
   ]
  },
  {
   "cell_type": "code",
   "execution_count": 3,
   "id": "64371699",
   "metadata": {},
   "outputs": [],
   "source": [
    "from sklearn.datasets import make_classification"
   ]
  },
  {
   "cell_type": "code",
   "execution_count": null,
   "id": "567d48bb",
   "metadata": {},
   "outputs": [],
   "source": [
    "## create the data set\n",
    "X,y = make_classification(n_samples=1000,n_features=10,n_classes=2,random_state=42,)"
   ]
  }
 ],
 "metadata": {
  "kernelspec": {
   "display_name": ".venv",
   "language": "python",
   "name": "python3"
  },
  "language_info": {
   "codemirror_mode": {
    "name": "ipython",
    "version": 3
   },
   "file_extension": ".py",
   "mimetype": "text/x-python",
   "name": "python",
   "nbconvert_exporter": "python",
   "pygments_lexer": "ipython3",
   "version": "3.11.11"
  }
 },
 "nbformat": 4,
 "nbformat_minor": 5
}
