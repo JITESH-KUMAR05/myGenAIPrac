{
 "cells": [
  {
   "cell_type": "code",
   "execution_count": 1,
   "id": "ed87872d",
   "metadata": {},
   "outputs": [
    {
     "name": "stdout",
     "output_type": "stream",
     "text": [
      "XGBoost version: 3.0.2\n",
      "XGBoost build info:\n",
      "{'BUILTIN_PREFETCH_PRESENT': False, 'CUDA_VERSION': [12, 5], 'DEBUG': False, 'MM_PREFETCH_PRESENT': True, 'THRUST_VERSION': [2, 6, 1], 'USE_CUDA': True, 'USE_DLOPEN_NCCL': False, 'USE_FEDERATED': False, 'USE_NCCL': False, 'USE_OPENMP': True, 'USE_RMM': False, 'libxgboost': 'd:\\\\python programing\\\\UD\\\\MLBasics\\\\XGBoost\\\\.venv\\\\Lib\\\\site-packages\\\\xgboost\\\\lib\\\\xgboost.dll'}\n",
      "✅ GPU training successful\n",
      "Booster config: {\"learner\":{\"generic_param\":{\"device\":\"cuda:0\",\"fail_on_invalid_gpu_id\":\"0\",\"n_jobs\":\"0\",\"nthread\":\"0\",\"random_state\":\"0\",\"seed\":\"0\",\"seed_per_iteration\":\"0\",\"validate_parameters\":\"1\"},\"gradient_booster\":{\"gbtree_model_param\":{\"num_parallel_tree\":\"1\",\"num_trees\":\"100\"},\"gbtree_train_param\":{\"process_type\":\"default\",\"tree_method\":\"hist\",\"updater\":\"grow_gpu_hist\",\"updater_seq\":\"grow_gpu_hist\"},\"name\":\"gbtree\",\"specified_updater\":false,\"tree_train_param\":{\"alpha\":\"0\",\"cache_opt\":\"1\",\"colsample_bylevel\":\"1\",\"colsample_bynode\":\"1\",\"colsample_bytree\":\"1\",\"eta\":\"0.300000012\",\"gamma\":\"0\",\"grow_policy\":\"depthwise\",\"interaction_constraints\":\"\",\"lambda\":\"1\",\"learning_rate\":\"0.300000012\",\"max_bin\":\"256\",\"max_cat_threshold\":\"64\",\"max_cat_to_onehot\":\"4\",\"max_delta_step\":\"0\",\"max_depth\":\"6\",\"max_leaves\":\"0\",\"min_child_weight\":\"1\",\"min_split_loss\":\"0\",\"monotone_constraints\":\"()\",\"refresh_leaf\":\"1\",\"reg_alpha\":\"0\",\"reg_lambda\":\"1\",\"sampling_method\":\"uniform\",\"sketch_ratio\":\"2\",\"sparse_threshold\":\"0.20000000000000001\",\"subsample\":\"1\"},\"updater\":[{\"hist_train_param\":{\"debug_synchronize\":\"0\",\"extmem_single_page\":\"0\",\"max_cached_hist_node\":\"18446744073709551615\"},\"name\":\"grow_gpu_hist\"}]},\"learner_model_param\":{\"base_score\":\"4.6931612E-1\",\"boost_from_average\":\"1\",\"num_class\":\"0\",\"num_feature\":\"10\",\"num_target\":\"1\"},\"learner_train_param\":{\"booster\":\"gbtree\",\"disable_default_eval_metric\":\"0\",\"multi_strategy\":\"one_output_per_tree\",\"objective\":\"reg:squarederror\"},\"metrics\":[{\"name\":\"rmse\"}],\"objective\":{\"name\":\"reg:squarederror\",\"reg_loss_param\":{\"scale_pos_weight\":\"1\"}}},\"version\":[3,0,2]}\n"
     ]
    }
   ],
   "source": [
    "import xgboost as xgb\n",
    "from xgboost import XGBRegressor\n",
    "\n",
    "# Check if XGBoost was compiled with GPU support\n",
    "print(\"XGBoost version:\", xgb.__version__)\n",
    "print(\"XGBoost build info:\")\n",
    "print(xgb.build_info())\n",
    "\n",
    "# Check CUDA availability\n",
    "try:\n",
    "    # Try to create a simple GPU model\n",
    "    import numpy as np\n",
    "    X_small = np.random.random((100, 10))\n",
    "    y_small = np.random.random(100)\n",
    "    \n",
    "    model = XGBRegressor(device=\"cuda:0\", tree_method=\"hist\")\n",
    "    model.fit(X_small, y_small)\n",
    "    print(\"✅ GPU training successful\")\n",
    "    \n",
    "    # Check if it actually used GPU\n",
    "    booster = model.get_booster()\n",
    "    print(\"Booster config:\", booster.save_config())\n",
    "    \n",
    "except Exception as e:\n",
    "    print(\"❌ GPU training failed:\", e)"
   ]
  },
  {
   "cell_type": "code",
   "execution_count": 2,
   "id": "6ca435a5",
   "metadata": {},
   "outputs": [
    {
     "name": "stdout",
     "output_type": "stream",
     "text": [
      "GPU status before training:\n",
      "NVIDIA RTX 3050: GPU Utilization: 0% | Memory: 142MB/4096MB\n"
     ]
    }
   ],
   "source": [
    "import subprocess\n",
    "\n",
    "def check_nvidia_gpu_usage():\n",
    "    \"\"\"Check NVIDIA GPU usage during training\"\"\"\n",
    "    try:\n",
    "        result = subprocess.run([\n",
    "            'nvidia-smi', \n",
    "            '--query-gpu=utilization.gpu,memory.used,memory.total', \n",
    "            '--format=csv,noheader,nounits'\n",
    "        ], capture_output=True, text=True)\n",
    "        \n",
    "        if result.returncode == 0:\n",
    "            gpu_util, mem_used, mem_total = result.stdout.strip().split(', ')\n",
    "            print(f\"NVIDIA RTX 3050: GPU Utilization: {gpu_util}% | Memory: {mem_used}MB/{mem_total}MB\")\n",
    "    except Exception as e:\n",
    "        print(f\"GPU monitoring error: {e}\")\n",
    "\n",
    "# Check before training\n",
    "print(\"GPU status before training:\")\n",
    "check_nvidia_gpu_usage()"
   ]
  },
  {
   "cell_type": "code",
   "execution_count": null,
   "id": "39227427",
   "metadata": {},
   "outputs": [],
   "source": []
  }
 ],
 "metadata": {
  "kernelspec": {
   "display_name": "XGBoost",
   "language": "python",
   "name": "python3"
  },
  "language_info": {
   "codemirror_mode": {
    "name": "ipython",
    "version": 3
   },
   "file_extension": ".py",
   "mimetype": "text/x-python",
   "name": "python",
   "nbconvert_exporter": "python",
   "pygments_lexer": "ipython3",
   "version": "3.11.11"
  }
 },
 "nbformat": 4,
 "nbformat_minor": 5
}
